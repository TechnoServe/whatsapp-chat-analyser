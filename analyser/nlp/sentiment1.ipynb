{
 "cells": [
  {
   "cell_type": "code",
   "execution_count": 8,
   "metadata": {},
   "outputs": [
    {
     "name": "stdout",
     "output_type": "stream",
     "text": [
      "Requirement already satisfied: wordcloud in /home/egide/Documents/TechnoServe/whatsapp-chat-analyser/env/lib/python3.8/site-packages (1.8.1)\n",
      "Requirement already satisfied: pillow in /home/egide/Documents/TechnoServe/whatsapp-chat-analyser/env/lib/python3.8/site-packages (from wordcloud) (8.3.1)\n",
      "Requirement already satisfied: matplotlib in /home/egide/Documents/TechnoServe/whatsapp-chat-analyser/env/lib/python3.8/site-packages (from wordcloud) (3.4.3)\n",
      "Requirement already satisfied: numpy>=1.6.1 in /home/egide/Documents/TechnoServe/whatsapp-chat-analyser/env/lib/python3.8/site-packages (from wordcloud) (1.21.2)\n",
      "Requirement already satisfied: pyparsing>=2.2.1 in /home/egide/Documents/TechnoServe/whatsapp-chat-analyser/env/lib/python3.8/site-packages (from matplotlib->wordcloud) (2.4.7)\n",
      "Requirement already satisfied: python-dateutil>=2.7 in /home/egide/Documents/TechnoServe/whatsapp-chat-analyser/env/lib/python3.8/site-packages (from matplotlib->wordcloud) (2.8.2)\n",
      "Requirement already satisfied: cycler>=0.10 in /home/egide/Documents/TechnoServe/whatsapp-chat-analyser/env/lib/python3.8/site-packages (from matplotlib->wordcloud) (0.11.0)\n",
      "Requirement already satisfied: kiwisolver>=1.0.1 in /home/egide/Documents/TechnoServe/whatsapp-chat-analyser/env/lib/python3.8/site-packages (from matplotlib->wordcloud) (1.3.2)\n",
      "Requirement already satisfied: six>=1.5 in /home/egide/Documents/TechnoServe/whatsapp-chat-analyser/env/lib/python3.8/site-packages (from python-dateutil>=2.7->matplotlib->wordcloud) (1.16.0)\n"
     ]
    }
   ],
   "source": [
    "!pip install wordcloud"
   ]
  },
  {
   "cell_type": "code",
   "execution_count": 1,
   "metadata": {},
   "outputs": [],
   "source": [
    "# Import the libraries\n",
    "import tweepy\n",
    "from textblob import TextBlob\n",
    "from wordcloud import WordCloud\n",
    "import pandas as pd\n",
    "import numpy as np\n",
    "import re\n",
    "import matplotlib.pyplot as plt\n",
    "plt.style.use('fivethirtyeight')"
   ]
  },
  {
   "cell_type": "code",
   "execution_count": null,
   "metadata": {},
   "outputs": [],
   "source": [
    "# Load the data"
   ]
  }
 ],
 "metadata": {
  "interpreter": {
   "hash": "916dbcbb3f70747c44a77c7bcd40155683ae19c65e1c03b4aa3499c5328201f1"
  },
  "kernelspec": {
   "display_name": "Python 3.8.10 64-bit",
   "language": "python",
   "name": "python3"
  },
  "language_info": {
   "codemirror_mode": {
    "name": "ipython",
    "version": 3
   },
   "file_extension": ".py",
   "mimetype": "text/x-python",
   "name": "python",
   "nbconvert_exporter": "python",
   "pygments_lexer": "ipython3",
   "version": "3.8.10"
  },
  "orig_nbformat": 4
 },
 "nbformat": 4,
 "nbformat_minor": 2
}
