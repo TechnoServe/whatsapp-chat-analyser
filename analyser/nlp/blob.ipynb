{
 "cells": [
  {
   "cell_type": "code",
   "execution_count": 2,
   "metadata": {},
   "outputs": [],
   "source": [
    "from nltk.sentiment.vader import SentimentIntensityAnalyzer\n",
    "from nltk.sentiment.util import *\n",
    "from textblob import TextBlob\n",
    "from nltk import tokenize\n",
    "import pandas as pd"
   ]
  },
  {
   "cell_type": "code",
   "execution_count": 3,
   "metadata": {},
   "outputs": [
    {
     "data": {
      "text/html": [
       "<div>\n",
       "<style scoped>\n",
       "    .dataframe tbody tr th:only-of-type {\n",
       "        vertical-align: middle;\n",
       "    }\n",
       "\n",
       "    .dataframe tbody tr th {\n",
       "        vertical-align: top;\n",
       "    }\n",
       "\n",
       "    .dataframe thead th {\n",
       "        text-align: right;\n",
       "    }\n",
       "</style>\n",
       "<table border=\"1\" class=\"dataframe\">\n",
       "  <thead>\n",
       "    <tr style=\"text-align: right;\">\n",
       "      <th></th>\n",
       "      <th>Original Text</th>\n",
       "      <th>Language</th>\n",
       "      <th>Translated Text</th>\n",
       "    </tr>\n",
       "  </thead>\n",
       "  <tbody>\n",
       "    <tr>\n",
       "      <th>0</th>\n",
       "      <td>Hello</td>\n",
       "      <td>en</td>\n",
       "      <td>Hello</td>\n",
       "    </tr>\n",
       "    <tr>\n",
       "      <th>1</th>\n",
       "      <td>Habari ya asubuhi</td>\n",
       "      <td>sw</td>\n",
       "      <td>Good morning</td>\n",
       "    </tr>\n",
       "    <tr>\n",
       "      <th>2</th>\n",
       "      <td>Ninunulie kitunguu</td>\n",
       "      <td>sw</td>\n",
       "      <td>Buy me onion</td>\n",
       "    </tr>\n",
       "    <tr>\n",
       "      <th>3</th>\n",
       "      <td>Waithira uko uku?</td>\n",
       "      <td>ig</td>\n",
       "      <td>Waithira uko uku?</td>\n",
       "    </tr>\n",
       "    <tr>\n",
       "      <th>4</th>\n",
       "      <td>🙏🙏🙏</td>\n",
       "      <td>und</td>\n",
       "      <td>🙏🙏🙏</td>\n",
       "    </tr>\n",
       "  </tbody>\n",
       "</table>\n",
       "</div>"
      ],
      "text/plain": [
       "        Original Text Language    Translated Text\n",
       "0               Hello       en              Hello\n",
       "1   Habari ya asubuhi       sw       Good morning\n",
       "2  Ninunulie kitunguu       sw       Buy me onion\n",
       "3   Waithira uko uku?       ig  Waithira uko uku?\n",
       "4                 🙏🙏🙏      und                🙏🙏🙏"
      ]
     },
     "execution_count": 3,
     "metadata": {},
     "output_type": "execute_result"
    }
   ],
   "source": [
    "df = pd.read_csv('trans2.csv')\n",
    "df.head()"
   ]
  },
  {
   "cell_type": "code",
   "execution_count": 12,
   "metadata": {},
   "outputs": [],
   "source": [
    "\n",
    "df['Translated Text'] = df['Translated Text'].astype('str')\n",
    "\n",
    "def get_polarity(text):\n",
    "    return TextBlob(text).sentiment.polarity\n",
    "df['Polarity'] = df['Original Text'].apply(get_polarity)"
   ]
  },
  {
   "cell_type": "code",
   "execution_count": 13,
   "metadata": {},
   "outputs": [
    {
     "data": {
      "text/html": [
       "<div>\n",
       "<style scoped>\n",
       "    .dataframe tbody tr th:only-of-type {\n",
       "        vertical-align: middle;\n",
       "    }\n",
       "\n",
       "    .dataframe tbody tr th {\n",
       "        vertical-align: top;\n",
       "    }\n",
       "\n",
       "    .dataframe thead th {\n",
       "        text-align: right;\n",
       "    }\n",
       "</style>\n",
       "<table border=\"1\" class=\"dataframe\">\n",
       "  <thead>\n",
       "    <tr style=\"text-align: right;\">\n",
       "      <th></th>\n",
       "      <th>Original Text</th>\n",
       "      <th>Language</th>\n",
       "      <th>Translated Text</th>\n",
       "      <th>Polarity</th>\n",
       "      <th>Sentiment_Type</th>\n",
       "    </tr>\n",
       "  </thead>\n",
       "  <tbody>\n",
       "    <tr>\n",
       "      <th>0</th>\n",
       "      <td>Hello</td>\n",
       "      <td>en</td>\n",
       "      <td>Hello</td>\n",
       "      <td>0.000000</td>\n",
       "      <td>NEUTRAL</td>\n",
       "    </tr>\n",
       "    <tr>\n",
       "      <th>1</th>\n",
       "      <td>Habari ya asubuhi</td>\n",
       "      <td>sw</td>\n",
       "      <td>Good morning</td>\n",
       "      <td>0.000000</td>\n",
       "      <td>POSITIVE</td>\n",
       "    </tr>\n",
       "    <tr>\n",
       "      <th>2</th>\n",
       "      <td>Ninunulie kitunguu</td>\n",
       "      <td>sw</td>\n",
       "      <td>Buy me onion</td>\n",
       "      <td>0.000000</td>\n",
       "      <td>NEUTRAL</td>\n",
       "    </tr>\n",
       "    <tr>\n",
       "      <th>3</th>\n",
       "      <td>Waithira uko uku?</td>\n",
       "      <td>ig</td>\n",
       "      <td>Waithira uko uku?</td>\n",
       "      <td>0.000000</td>\n",
       "      <td>NEUTRAL</td>\n",
       "    </tr>\n",
       "    <tr>\n",
       "      <th>4</th>\n",
       "      <td>🙏🙏🙏</td>\n",
       "      <td>und</td>\n",
       "      <td>🙏🙏🙏</td>\n",
       "      <td>0.000000</td>\n",
       "      <td>NEUTRAL</td>\n",
       "    </tr>\n",
       "    <tr>\n",
       "      <th>...</th>\n",
       "      <td>...</td>\n",
       "      <td>...</td>\n",
       "      <td>...</td>\n",
       "      <td>...</td>\n",
       "      <td>...</td>\n",
       "    </tr>\n",
       "    <tr>\n",
       "      <th>95</th>\n",
       "      <td>Good morning everyone, hope you all doing grea...</td>\n",
       "      <td>en</td>\n",
       "      <td>Good morning everyone, hope you all doing grea...</td>\n",
       "      <td>0.409091</td>\n",
       "      <td>POSITIVE</td>\n",
       "    </tr>\n",
       "    <tr>\n",
       "      <th>96</th>\n",
       "      <td>Good morning to you. Noted</td>\n",
       "      <td>en</td>\n",
       "      <td>Good morning to you. Noted</td>\n",
       "      <td>0.700000</td>\n",
       "      <td>POSITIVE</td>\n",
       "    </tr>\n",
       "    <tr>\n",
       "      <th>97</th>\n",
       "      <td>I normally try to keep a records on my expense...</td>\n",
       "      <td>en</td>\n",
       "      <td>I normally try to keep a records on my expense...</td>\n",
       "      <td>0.145833</td>\n",
       "      <td>POSITIVE</td>\n",
       "    </tr>\n",
       "    <tr>\n",
       "      <th>98</th>\n",
       "      <td>What ido is to keep my profit separately and t...</td>\n",
       "      <td>en</td>\n",
       "      <td>What ido is to keep my profit separately and t...</td>\n",
       "      <td>0.433333</td>\n",
       "      <td>POSITIVE</td>\n",
       "    </tr>\n",
       "    <tr>\n",
       "      <th>99</th>\n",
       "      <td>Sometimes I borrow from my shop then pay back ...</td>\n",
       "      <td>en</td>\n",
       "      <td>Sometimes I borrow from my shop then pay back ...</td>\n",
       "      <td>-0.100000</td>\n",
       "      <td>NEGATIVE</td>\n",
       "    </tr>\n",
       "  </tbody>\n",
       "</table>\n",
       "<p>100 rows × 5 columns</p>\n",
       "</div>"
      ],
      "text/plain": [
       "                                        Original Text Language  \\\n",
       "0                                               Hello       en   \n",
       "1                                   Habari ya asubuhi       sw   \n",
       "2                                  Ninunulie kitunguu       sw   \n",
       "3                                   Waithira uko uku?       ig   \n",
       "4                                                 🙏🙏🙏      und   \n",
       "..                                                ...      ...   \n",
       "95  Good morning everyone, hope you all doing grea...       en   \n",
       "96                         Good morning to you. Noted       en   \n",
       "97  I normally try to keep a records on my expense...       en   \n",
       "98  What ido is to keep my profit separately and t...       en   \n",
       "99  Sometimes I borrow from my shop then pay back ...       en   \n",
       "\n",
       "                                      Translated Text  Polarity Sentiment_Type  \n",
       "0                                               Hello  0.000000        NEUTRAL  \n",
       "1                                        Good morning  0.000000       POSITIVE  \n",
       "2                                        Buy me onion  0.000000        NEUTRAL  \n",
       "3                                   Waithira uko uku?  0.000000        NEUTRAL  \n",
       "4                                                 🙏🙏🙏  0.000000        NEUTRAL  \n",
       "..                                                ...       ...            ...  \n",
       "95  Good morning everyone, hope you all doing grea...  0.409091       POSITIVE  \n",
       "96                         Good morning to you. Noted  0.700000       POSITIVE  \n",
       "97  I normally try to keep a records on my expense...  0.145833       POSITIVE  \n",
       "98  What ido is to keep my profit separately and t...  0.433333       POSITIVE  \n",
       "99  Sometimes I borrow from my shop then pay back ... -0.100000       NEGATIVE  \n",
       "\n",
       "[100 rows x 5 columns]"
      ]
     },
     "execution_count": 13,
     "metadata": {},
     "output_type": "execute_result"
    }
   ],
   "source": [
    "df.head(100)"
   ]
  },
  {
   "cell_type": "code",
   "execution_count": 14,
   "metadata": {},
   "outputs": [],
   "source": [
    "df['Sentiment_Type']=''\n",
    "df.loc[df.Polarity>0,'Sentiment_Type']='POSITIVE'\n",
    "df.loc[df.Polarity==0,'Sentiment_Type']='NEUTRAL'\n",
    "df.loc[df.Polarity<0,'Sentiment_Type']='NEGATIVE'"
   ]
  },
  {
   "cell_type": "code",
   "execution_count": 15,
   "metadata": {},
   "outputs": [
    {
     "data": {
      "text/plain": [
       "<AxesSubplot:title={'center':'Sentiment Analysis'}>"
      ]
     },
     "execution_count": 15,
     "metadata": {},
     "output_type": "execute_result"
    },
    {
     "data": {
      "image/png": "[encoded data removed]",
      "text/plain": [
       "<Figure size 432x288 with 1 Axes>"
      ]
     },
     "metadata": {
      "needs_background": "light"
     },
     "output_type": "display_data"
    }
   ],
   "source": [
    "df.Sentiment_Type.value_counts().plot(kind='bar',title=\"Sentiment Analysis\")"
   ]
  },
  {
   "cell_type": "code",
   "execution_count": null,
   "metadata": {},
   "outputs": [],
   "source": []
  }
 ],
 "metadata": {
  "interpreter": {
   "hash": "07a300305fa8e199eb941e5370d19ca82526f54029f511c66f36073a74c1ee2e"
  },
  "kernelspec": {
   "display_name": "Python 3.8.10 64-bit ('env': venv)",
   "language": "python",
   "name": "python3"
  },
  "language_info": {
   "codemirror_mode": {
    "name": "ipython",
    "version": 3
   },
   "file_extension": ".py",
   "mimetype": "text/x-python",
   "name": "python",
   "nbconvert_exporter": "python",
   "pygments_lexer": "ipython3",
   "version": "3.8.10"
  },
  "orig_nbformat": 4
 },
 "nbformat": 4,
 "nbformat_minor": 2
}
