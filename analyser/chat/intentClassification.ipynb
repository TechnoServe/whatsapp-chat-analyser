{
 "cells": [
  {
   "cell_type": "code",
   "execution_count": 8,
   "metadata": {},
   "outputs": [
    {
     "name": "stdout",
     "output_type": "stream",
     "text": [
      "Collecting spacy\n",
      "  Downloading spacy-3.2.0-cp38-cp38-manylinux_2_17_x86_64.manylinux2014_x86_64.whl (6.2 MB)\n",
      "\u001b[K     |████████████████████████████████| 6.2 MB 2.0 MB/s \n",
      "\u001b[?25hCollecting cymem<2.1.0,>=2.0.2\n",
      "  Downloading cymem-2.0.6-cp38-cp38-manylinux_2_17_x86_64.manylinux2014_x86_64.whl (36 kB)\n",
      "Requirement already satisfied: numpy>=1.15.0 in /home/egide/Documents/TechnoServe/whatsapp-chat-analyser/env/lib/python3.8/site-packages (from spacy) (1.21.2)\n",
      "Collecting spacy-legacy<3.1.0,>=3.0.8\n",
      "  Downloading spacy_legacy-3.0.8-py2.py3-none-any.whl (14 kB)\n",
      "Requirement already satisfied: setuptools in /home/egide/Documents/TechnoServe/whatsapp-chat-analyser/env/lib/python3.8/site-packages (from spacy) (44.0.0)\n",
      "Collecting murmurhash<1.1.0,>=0.28.0\n",
      "  Downloading murmurhash-1.0.6-cp38-cp38-manylinux_2_5_x86_64.manylinux1_x86_64.manylinux_2_17_x86_64.manylinux2014_x86_64.whl (21 kB)\n",
      "Collecting spacy-loggers<2.0.0,>=1.0.0\n",
      "  Downloading spacy_loggers-1.0.1-py3-none-any.whl (7.0 kB)\n",
      "Collecting blis<0.8.0,>=0.4.0\n",
      "  Downloading blis-0.7.5-cp38-cp38-manylinux_2_17_x86_64.manylinux2014_x86_64.whl (9.9 MB)\n",
      "\u001b[K     |████████████████████████████████| 9.9 MB 1.7 MB/s \n",
      "\u001b[?25hCollecting typer<0.5.0,>=0.3.0\n",
      "  Downloading typer-0.4.0-py3-none-any.whl (27 kB)\n",
      "Collecting pydantic!=1.8,!=1.8.1,<1.9.0,>=1.7.4\n",
      "  Downloading pydantic-1.8.2-cp38-cp38-manylinux2014_x86_64.whl (13.7 MB)\n",
      "\u001b[K     |████████████████████████████████| 13.7 MB 2.2 MB/s \n",
      "\u001b[?25hCollecting thinc<8.1.0,>=8.0.12\n",
      "  Downloading thinc-8.0.13-cp38-cp38-manylinux_2_17_x86_64.manylinux2014_x86_64.whl (636 kB)\n",
      "\u001b[K     |████████████████████████████████| 636 kB 1.8 MB/s \n",
      "\u001b[?25hRequirement already satisfied: packaging>=20.0 in /home/egide/Documents/TechnoServe/whatsapp-chat-analyser/env/lib/python3.8/site-packages (from spacy) (21.2)\n",
      "Requirement already satisfied: jinja2 in /home/egide/Documents/TechnoServe/whatsapp-chat-analyser/env/lib/python3.8/site-packages (from spacy) (3.0.1)\n",
      "Collecting pathy>=0.3.5\n",
      "  Downloading pathy-0.6.1-py3-none-any.whl (42 kB)\n",
      "\u001b[K     |████████████████████████████████| 42 kB 1.2 MB/s \n",
      "\u001b[?25hCollecting preshed<3.1.0,>=3.0.2\n",
      "  Downloading preshed-3.0.6-cp38-cp38-manylinux_2_5_x86_64.manylinux1_x86_64.manylinux_2_17_x86_64.manylinux2014_x86_64.whl (130 kB)\n",
      "\u001b[K     |████████████████████████████████| 130 kB 2.2 MB/s \n",
      "\u001b[?25hCollecting wasabi<1.1.0,>=0.8.1\n",
      "  Downloading wasabi-0.8.2-py3-none-any.whl (23 kB)\n",
      "Collecting langcodes<4.0.0,>=3.2.0\n",
      "  Downloading langcodes-3.2.1.tar.gz (173 kB)\n",
      "\u001b[K     |████████████████████████████████| 173 kB 2.0 MB/s \n",
      "\u001b[?25hRequirement already satisfied: tqdm<5.0.0,>=4.38.0 in /home/egide/Documents/TechnoServe/whatsapp-chat-analyser/env/lib/python3.8/site-packages (from spacy) (4.62.3)\n",
      "Requirement already satisfied: requests<3.0.0,>=2.13.0 in /home/egide/Documents/TechnoServe/whatsapp-chat-analyser/env/lib/python3.8/site-packages (from spacy) (2.26.0)\n",
      "Collecting srsly<3.0.0,>=2.4.1\n",
      "  Downloading srsly-2.4.2-cp38-cp38-manylinux_2_17_x86_64.manylinux2014_x86_64.whl (454 kB)\n",
      "\u001b[K     |████████████████████████████████| 454 kB 2.1 MB/s \n",
      "\u001b[?25hCollecting catalogue<2.1.0,>=2.0.6\n",
      "  Downloading catalogue-2.0.6-py3-none-any.whl (17 kB)\n",
      "Collecting click<9.0.0,>=7.1.1\n",
      "  Downloading click-8.0.3-py3-none-any.whl (97 kB)\n",
      "\u001b[K     |████████████████████████████████| 97 kB 2.4 MB/s \n",
      "\u001b[?25hCollecting typing-extensions>=3.7.4.3\n",
      "  Downloading typing_extensions-3.10.0.2-py3-none-any.whl (26 kB)\n",
      "Requirement already satisfied: pyparsing<3,>=2.0.2 in /home/egide/Documents/TechnoServe/whatsapp-chat-analyser/env/lib/python3.8/site-packages (from packaging>=20.0->spacy) (2.4.7)\n",
      "Requirement already satisfied: MarkupSafe>=2.0 in /home/egide/Documents/TechnoServe/whatsapp-chat-analyser/env/lib/python3.8/site-packages (from jinja2->spacy) (2.0.1)\n",
      "Collecting smart-open<6.0.0,>=5.0.0\n",
      "  Downloading smart_open-5.2.1-py3-none-any.whl (58 kB)\n",
      "\u001b[K     |████████████████████████████████| 58 kB 2.3 MB/s \n",
      "\u001b[?25hRequirement already satisfied: urllib3<1.27,>=1.21.1 in /home/egide/Documents/TechnoServe/whatsapp-chat-analyser/env/lib/python3.8/site-packages (from requests<3.0.0,>=2.13.0->spacy) (1.26.6)\n",
      "Requirement already satisfied: certifi>=2017.4.17 in /home/egide/Documents/TechnoServe/whatsapp-chat-analyser/env/lib/python3.8/site-packages (from requests<3.0.0,>=2.13.0->spacy) (2021.5.30)\n",
      "Requirement already satisfied: idna<4,>=2.5; python_version >= \"3\" in /home/egide/Documents/TechnoServe/whatsapp-chat-analyser/env/lib/python3.8/site-packages (from requests<3.0.0,>=2.13.0->spacy) (3.2)\n",
      "Requirement already satisfied: charset-normalizer~=2.0.0; python_version >= \"3\" in /home/egide/Documents/TechnoServe/whatsapp-chat-analyser/env/lib/python3.8/site-packages (from requests<3.0.0,>=2.13.0->spacy) (2.0.6)\n",
      "Building wheels for collected packages: langcodes\n",
      "  Building wheel for langcodes (setup.py) ... \u001b[?25ldone\n",
      "\u001b[?25h  Created wheel for langcodes: filename=langcodes-3.2.1-py3-none-any.whl size=169378 sha256=2d9b3955868f027456ba08f289c3a1f018f12cfbe102770d99524098d9e127e1\n",
      "  Stored in directory: /home/egide/.cache/pip/wheels/aa/5b/45/2e2ebdd7b888ba82dac447122f8ea0f4a2404910516d486679\n",
      "Successfully built langcodes\n",
      "Installing collected packages: cymem, spacy-legacy, murmurhash, wasabi, spacy-loggers, blis, click, typer, typing-extensions, pydantic, catalogue, srsly, preshed, thinc, smart-open, pathy, langcodes, spacy\n",
      "Successfully installed blis-0.7.5 catalogue-2.0.6 click-8.0.3 cymem-2.0.6 langcodes-3.2.1 murmurhash-1.0.6 pathy-0.6.1 preshed-3.0.6 pydantic-1.8.2 smart-open-5.2.1 spacy-3.2.0 spacy-legacy-3.0.8 spacy-loggers-1.0.1 srsly-2.4.2 thinc-8.0.13 typer-0.4.0 typing-extensions-3.10.0.2 wasabi-0.8.2\n"
     ]
    }
   ],
   "source": [
    "!pip install spacy"
   ]
  },
  {
   "cell_type": "code",
   "execution_count": 9,
   "metadata": {},
   "outputs": [
    {
     "name": "stdout",
     "output_type": "stream",
     "text": [
      "Collecting rasa_nlu\n",
      "  Using cached rasa_nlu-0.15.1-py3-none-any.whl (147 kB)\n",
      "Collecting typing~=3.6\n",
      "  Downloading typing-3.7.4.3.tar.gz (78 kB)\n",
      "\u001b[K     |████████████████████████████████| 78 kB 731 kB/s \n",
      "\u001b[?25hRequirement already satisfied: tqdm~=4.19 in /home/egide/Documents/TechnoServe/whatsapp-chat-analyser/env/lib/python3.8/site-packages (from rasa_nlu) (4.62.3)\n",
      "Requirement already satisfied: boto3~=1.9 in /home/egide/Documents/TechnoServe/whatsapp-chat-analyser/env/lib/python3.8/site-packages (from rasa_nlu) (1.18.22)\n",
      "Collecting simplejson~=3.13\n",
      "  Downloading simplejson-3.17.5-cp38-cp38-manylinux_2_5_x86_64.manylinux1_x86_64.manylinux_2_12_x86_64.manylinux2010_x86_64.whl (139 kB)\n",
      "\u001b[K     |████████████████████████████████| 139 kB 1.3 MB/s \n",
      "\u001b[?25hCollecting scikit-learn~=0.20.2\n",
      "  Downloading scikit-learn-0.20.4.tar.gz (11.7 MB)\n",
      "\u001b[K     |████████████████████████████████| 11.7 MB 1.7 MB/s \n",
      "\u001b[?25hCollecting matplotlib~=2.2\n",
      "  Using cached matplotlib-2.2.5.tar.gz (36.7 MB)\n",
      "\u001b[31m    ERROR: Command errored out with exit status 1:\n",
      "     command: /home/egide/Documents/TechnoServe/whatsapp-chat-analyser/env/bin/python3 -c 'import sys, setuptools, tokenize; sys.argv[0] = '\"'\"'/tmp/pip-install-lltqsth8/matplotlib/setup.py'\"'\"'; __file__='\"'\"'/tmp/pip-install-lltqsth8/matplotlib/setup.py'\"'\"';f=getattr(tokenize, '\"'\"'open'\"'\"', open)(__file__);code=f.read().replace('\"'\"'\\r\\n'\"'\"', '\"'\"'\\n'\"'\"');f.close();exec(compile(code, __file__, '\"'\"'exec'\"'\"'))' egg_info --egg-base /tmp/pip-install-lltqsth8/matplotlib/pip-egg-info\n",
      "         cwd: /tmp/pip-install-lltqsth8/matplotlib/\n",
      "    Complete output (62 lines):\n",
      "    ============================================================================\n",
      "    Edit setup.cfg to change the build options\n",
      "    \n",
      "    BUILDING MATPLOTLIB\n",
      "                matplotlib: yes [2.2.5]\n",
      "                    python: yes [3.8.10 (default, Sep 28 2021, 16:10:42)  [GCC\n",
      "                            9.3.0]]\n",
      "                  platform: yes [linux]\n",
      "    \n",
      "    REQUIRED DEPENDENCIES AND EXTENSIONS\n",
      "                     numpy: yes [version 1.21.2]\n",
      "          install_requires: yes [handled by setuptools]\n",
      "                    libagg: yes [pkg-config information for 'libagg' could not\n",
      "                            be found. Using local copy.]\n",
      "                  freetype: no  [The C/C++ header for freetype2 (ft2build.h)\n",
      "                            could not be found.  You may need to install the\n",
      "                            development package.]\n",
      "                       png: no  [pkg-config information for 'libpng' could not\n",
      "                            be found.]\n",
      "                     qhull: yes [pkg-config information for 'libqhull' could not\n",
      "                            be found. Using local copy.]\n",
      "    \n",
      "    OPTIONAL SUBPACKAGES\n",
      "               sample_data: yes [installing]\n",
      "                  toolkits: yes [installing]\n",
      "                     tests: no  [skipping due to configuration]\n",
      "            toolkits_tests: no  [skipping due to configuration]\n",
      "    \n",
      "    OPTIONAL BACKEND EXTENSIONS\n",
      "                    macosx: no  [Mac OS-X only]\n",
      "                    qt5agg: no  [PySide2 not found; PyQt5 not found]\n",
      "                    qt4agg: no  [PySide not found; PyQt4 not found]\n",
      "                   gtk3agg: no  [Requires pygobject to be installed.]\n",
      "                 gtk3cairo: no  [Requires cairocffi or pycairo to be installed.]\n",
      "                    gtkagg: no  [Requires pygtk]\n",
      "                     tkagg: yes [installing; run-time loading from Python Tcl /\n",
      "                            Tk]\n",
      "                     wxagg: no  [requires wxPython]\n",
      "                       gtk: no  [Requires pygtk]\n",
      "                       agg: yes [installing]\n",
      "                     cairo: no  [cairocffi or pycairo not found]\n",
      "                 windowing: no  [Microsoft Windows only]\n",
      "    \n",
      "    OPTIONAL LATEX DEPENDENCIES\n",
      "                    dvipng: no\n",
      "               ghostscript: yes [version 9.50]\n",
      "                     latex: no\n",
      "                   pdftops: yes [version 0.86.1]\n",
      "    \n",
      "    OPTIONAL PACKAGE DATA\n",
      "                      dlls: no  [skipping due to configuration]\n",
      "    \n",
      "    ============================================================================\n",
      "                            * The following required packages can not be built:\n",
      "                            * freetype, png\n",
      "    Traceback (most recent call last):\n",
      "      File \"<string>\", line 1, in <module>\n",
      "      File \"/tmp/pip-install-lltqsth8/matplotlib/setup.py\", line 252, in <module>\n",
      "        msg = pkg.install_help_msg()\n",
      "      File \"/tmp/pip-install-lltqsth8/matplotlib/setupext.py\", line 718, in install_help_msg\n",
      "        release = platform.linux_distribution()[0].lower()\n",
      "    AttributeError: module 'platform' has no attribute 'linux_distribution'\n",
      "    ----------------------------------------\u001b[0m\n",
      "\u001b[31mERROR: Command errored out with exit status 1: python setup.py egg_info Check the logs for full command output.\u001b[0m\n"
     ]
    }
   ],
   "source": [
    "!pip install rasa_nlu"
   ]
  },
  {
   "cell_type": "code",
   "execution_count": 4,
   "metadata": {},
   "outputs": [
    {
     "name": "stdout",
     "output_type": "stream",
     "text": [
      "\u001b[31mERROR: Could not find a version that satisfies the requirement rasa_nlu.server (from versions: none)\u001b[0m\n",
      "\u001b[31mERROR: No matching distribution found for rasa_nlu.server\u001b[0m\n"
     ]
    }
   ],
   "source": [
    "!pip install rasa_nlu.server"
   ]
  },
  {
   "cell_type": "code",
   "execution_count": 3,
   "metadata": {},
   "outputs": [
    {
     "name": "stdout",
     "output_type": "stream",
     "text": [
      "Collecting sklearn_crfsuite\n",
      "  Downloading sklearn_crfsuite-0.3.6-py2.py3-none-any.whl (12 kB)\n",
      "Collecting tabulate\n",
      "  Downloading tabulate-0.8.9-py3-none-any.whl (25 kB)\n",
      "Collecting tqdm>=2.0\n",
      "  Downloading tqdm-4.62.3-py2.py3-none-any.whl (76 kB)\n",
      "\u001b[K     |████████████████████████████████| 76 kB 716 kB/s \n",
      "\u001b[?25hCollecting python-crfsuite>=0.8.3\n",
      "  Downloading python_crfsuite-0.9.7-cp38-cp38-manylinux1_x86_64.whl (743 kB)\n",
      "\u001b[K     |████████████████████████████████| 743 kB 3.1 MB/s \n",
      "\u001b[?25hRequirement already satisfied: six in /home/egide/Documents/TechnoServe/whatsapp-chat-analyser/env/lib/python3.8/site-packages (from sklearn_crfsuite) (1.16.0)\n",
      "Installing collected packages: tabulate, tqdm, python-crfsuite, sklearn-crfsuite\n",
      "Successfully installed python-crfsuite-0.9.7 sklearn-crfsuite-0.3.6 tabulate-0.8.9 tqdm-4.62.3\n"
     ]
    }
   ],
   "source": [
    "!pip install sklearn_crfsuite"
   ]
  },
  {
   "cell_type": "code",
   "execution_count": 11,
   "metadata": {},
   "outputs": [
    {
     "ename": "ModuleNotFoundError",
     "evalue": "No module named 'rasa_nlu'",
     "output_type": "error",
     "traceback": [
      "\u001b[0;31m---------------------------------------------------------------------------\u001b[0m",
      "\u001b[0;31mModuleNotFoundError\u001b[0m                       Traceback (most recent call last)",
      "\u001b[0;32m/tmp/ipykernel_4081/3146766380.py\u001b[0m in \u001b[0;36m<module>\u001b[0;34m\u001b[0m\n\u001b[0;32m----> 1\u001b[0;31m \u001b[0;32mfrom\u001b[0m \u001b[0mrasa_nlu\u001b[0m\u001b[0;34m.\u001b[0m\u001b[0mtraining_data\u001b[0m  \u001b[0;32mimport\u001b[0m \u001b[0mload_data\u001b[0m\u001b[0;34m\u001b[0m\u001b[0;34m\u001b[0m\u001b[0m\n\u001b[0m\u001b[1;32m      2\u001b[0m \u001b[0;32mfrom\u001b[0m \u001b[0mrasa_nlu\u001b[0m\u001b[0;34m.\u001b[0m\u001b[0mconfig\u001b[0m \u001b[0;32mimport\u001b[0m \u001b[0mRasaNLUModelConfig\u001b[0m\u001b[0;34m\u001b[0m\u001b[0;34m\u001b[0m\u001b[0m\n\u001b[1;32m      3\u001b[0m \u001b[0;32mfrom\u001b[0m \u001b[0mrasa_nlu\u001b[0m\u001b[0;34m.\u001b[0m\u001b[0mmodel\u001b[0m \u001b[0;32mimport\u001b[0m \u001b[0mTrainer\u001b[0m\u001b[0;34m\u001b[0m\u001b[0;34m\u001b[0m\u001b[0m\n\u001b[1;32m      4\u001b[0m \u001b[0;32mfrom\u001b[0m \u001b[0mrasa_nlu\u001b[0m \u001b[0;32mimport\u001b[0m \u001b[0mconfig\u001b[0m\u001b[0;34m\u001b[0m\u001b[0;34m\u001b[0m\u001b[0m\n",
      "\u001b[0;31mModuleNotFoundError\u001b[0m: No module named 'rasa_nlu'"
     ]
    }
   ],
   "source": [
    "from rasa_nlu.training_data  import load_data\n",
    "from rasa_nlu.config import RasaNLUModelConfig\n",
    "from rasa_nlu.model import Trainer\n",
    "from rasa_nlu import config"
   ]
  },
  {
   "cell_type": "code",
   "execution_count": null,
   "metadata": {},
   "outputs": [],
   "source": []
  }
 ],
 "metadata": {
  "interpreter": {
   "hash": "07a300305fa8e199eb941e5370d19ca82526f54029f511c66f36073a74c1ee2e"
  },
  "kernelspec": {
   "display_name": "Python 3.8.10 64-bit ('env': venv)",
   "language": "python",
   "name": "python3"
  },
  "language_info": {
   "codemirror_mode": {
    "name": "ipython",
    "version": 3
   },
   "file_extension": ".py",
   "mimetype": "text/x-python",
   "name": "python",
   "nbconvert_exporter": "python",
   "pygments_lexer": "ipython3",
   "version": "3.8.10"
  },
  "orig_nbformat": 4
 },
 "nbformat": 4,
 "nbformat_minor": 2
}
